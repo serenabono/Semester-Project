{
 "cells": [
  {
   "cell_type": "code",
   "execution_count": null,
   "metadata": {
    "collapsed": true
   },
   "outputs": [],
   "source": [
    "# main file to simulate robocup environment.\n",
    "import random\n",
    "import os\n",
    "import sys\n",
    "import numpy as np\n",
    "import pdb\n",
    "import time\n",
    "from scipy.io import loadmat,savemat\n",
    "#import cv2 as cv\n",
    "\n",
    "from skimage import transform\n",
    "from skimage.io import imread, imshow\n",
    "from scipy.spatial.transform import Rotation as Rot\n",
    "import matplotlib.pyplot as plt\n",
    "\n",
    "def simImage(img,H):\n",
    "    tform = transform.ProjectiveTransform(H)\n",
    "    img2 = transform.warp(img, tform.inverse, mode=\"constant\")\n",
    "\n",
    "    return img2\n",
    "\n",
    "\n",
    "def runSimulate(K,dx,thetax,dy,thetay,dz,thetaz):\n",
    "    T=np.asarray([dx,dy,dz])\n",
    "    Rx=[[1,0,0],[0,np.cos(thetax),-np.sin(thetax)],[0,np.sin(thetax),np.cos(thetax)]]\n",
    "    Ry = [[np.cos(thetay),0,np.sin(thetay)],[0,1,0],[-np.sin(thetay),0,np.cos(thetay)]]\n",
    "    Rz = [[np.cos(thetaz),-np.sin(thetaz),0],[np.sin(thetaz),np.cos(thetaz),0],[0,0,1]]\n",
    "    R=np.matmul(np.matmul(Rx,Ry),Rz)\n",
    "    H=np.column_stack((R[:,0:2],T))\n",
    "    H=np.matmul(K,H)\n",
    "    return H\n",
    "\n",
    "\n",
    "def main():\n",
    "    img = imread(\".\\\\robocup.jpeg\")\n",
    "    row,col,ch=img.shape\n",
    "    zoom=600\n",
    "    rangex=np.linspace(-100,-col,30)\n",
    "    rangey = np.linspace(100, -row, 30)\n",
    "    rangea = np.concatenate((np.asarray(np.linspace(-3, 3, 20)),np.asarray([4,5,6])))\n",
    "\n",
    "    i=0\n",
    "    for el1 in rangey:\n",
    "        for el2 in rangex:\n",
    "            for el in rangea:\n",
    "                K = np.asarray([[zoom, 0, col/2*el], [0, zoom, row/2], [0, 0, 1]], dtype=np.float)\n",
    "                H = runSimulate(K,el2,-np.pi/2,100,0,el1,-np.pi/2)\n",
    "                img_out = simImage(img, H)\n",
    "                thresh=int(img.shape[0]/2)\n",
    "                #remove reflection\n",
    "                img_out[:thresh,:,:]=np.zeros(img[:thresh,:,:].shape)\n",
    "                plt.figure(num=None, figsize=(8, 6), dpi=80)\n",
    "                imshow(img_out)\n",
    "                plt.savefig(f'.\\\\synthetic_images\\\\{i}', bbox_inches='tight')\n",
    "                i = i + 1\n",
    "    return\n",
    "\n",
    "\n",
    "if __name__==\"__main__\":\n",
    "    main()\n"
   ]
  }
 ],
 "metadata": {
  "kernelspec": {
   "display_name": "Python 3",
   "language": "python",
   "name": "python3"
  },
  "language_info": {
   "codemirror_mode": {
    "name": "ipython",
    "version": 2
   },
   "file_extension": ".py",
   "mimetype": "text/x-python",
   "name": "python",
   "nbconvert_exporter": "python",
   "pygments_lexer": "ipython2",
   "version": "2.7.6"
  }
 },
 "nbformat": 4,
 "nbformat_minor": 0
}